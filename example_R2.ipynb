{
 "cells": [
  {
   "cell_type": "markdown",
   "id": "0478c17d",
   "metadata": {},
   "source": [
    "## Requirements for this notebook\n",
    "#### Within Python\n",
    "- Jupyter notebook\n",
    "- numpy\n",
    "- numba\n",
    "- pandas\n",
    "- seaborn\n",
    "- matplotlib\n",
    "#### Other\n",
    "- bcftools"
   ]
  },
  {
   "cell_type": "code",
   "execution_count": 1,
   "id": "5a93e3fc",
   "metadata": {},
   "outputs": [],
   "source": [
    "import numpy as np\n",
    "import pandas as pd\n",
    "import numba\n",
    "import os\n",
    "import seaborn as sns\n",
    "import matplotlib.pyplot as plt"
   ]
  },
  {
   "cell_type": "markdown",
   "id": "ff7e6b45",
   "metadata": {},
   "source": [
    "# Function definitions"
   ]
  },
  {
   "cell_type": "code",
   "execution_count": 2,
   "id": "6cf05f72",
   "metadata": {},
   "outputs": [],
   "source": [
    "def load_true_la(path):\n",
    "    \"\"\"Load true local ancestry.\"\"\"\n",
    "    return(np.load(path)['arr'])\n",
    "\n",
    "\n",
    "def get_true_anc_dosage(true_la, n_anc):\n",
    "    \"\"\"Compute true local ancestry dosage from the true local ancestry array.\n",
    "    Should be in int8 dtype.\"\"\"\n",
    "    hap1 = np.zeros((true_la.shape[0], int(true_la.shape[1] / 2 * n_anc)), dtype='int8')\n",
    "    hap2 = np.zeros((true_la.shape[0], int(true_la.shape[1] / 2 * n_anc)), dtype='int8')\n",
    "    aa = np.arange(true_la[:, ::2].shape[1]) * n_anc + true_la[:, ::2]\n",
    "    bb = np.arange(true_la[:, 1::2].shape[1]) * n_anc + true_la[:, 1::2]\n",
    "    np.put_along_axis(hap1, aa.astype('int'), 1, axis=1)\n",
    "    np.put_along_axis(hap2, bb.astype('int'), 1, axis=1)\n",
    "    return(hap1 + hap2)\n",
    "\n",
    "\n",
    "def get_ancestry_dosage(arr, n_anc):\n",
    "    \"\"\"Compute ancestry dosage from probablistic haploid ancestry calls.\n",
    "    The shape of the returned array is:\n",
    "    ncols = (number of inds) * (number of ancestries)\n",
    "    nrow = number of sites\n",
    "    \n",
    "    Order of the columns, assuming 0-based indexing:\n",
    "    [ind0anc0, ind0anc1, ind0anc2, ind1anc0, ...] for n_anc=3\n",
    "    \n",
    "    This function produces np.floats by default, \n",
    "    but these are converted within the r2 computation. \n",
    "    \"\"\"\n",
    "    \n",
    "    anc_dosage = np.zeros((arr.shape[0], int(arr.shape[1] / 2)))\n",
    "    if n_anc == 2:\n",
    "        a0 = arr[:, 0::2]  # should be views\n",
    "        a1 = arr[:, 1::2]\n",
    "        anc_dosage[:, 0::2] = a0[:, ::2] + a0[:, 1::2]\n",
    "        anc_dosage[:, 1::2] = a1[:, ::2] + a1[:, 1::2]\n",
    "    if n_anc == 3:\n",
    "        a0 = arr[:, 0::3]\n",
    "        a1 = arr[:, 1::3]\n",
    "        a2 = arr[:, 2::3]\n",
    "        anc_dosage[:, 0::3] = a0[:, ::2] + a0[:, 1::2]\n",
    "        anc_dosage[:, 1::3] = a1[:, ::2] + a1[:, 1::2]\n",
    "        anc_dosage[:, 2::3] = a2[:, ::2] + a2[:, 1::2]\n",
    "    elif n_anc == 4:\n",
    "        a0 = arr[:, 0::4]\n",
    "        a1 = arr[:, 1::4]\n",
    "        a2 = arr[:, 2::4]\n",
    "        a3 = arr[:, 3::4]\n",
    "        anc_dosage[:, 0::4] = a0[:, ::2] + a0[:, 1::2]\n",
    "        anc_dosage[:, 1::4] = a1[:, ::2] + a1[:, 1::2]\n",
    "        anc_dosage[:, 2::4] = a2[:, ::2] + a2[:, 1::2]\n",
    "        anc_dosage[:, 3::4] = a3[:, ::2] + a3[:, 1::2]\n",
    "    return(anc_dosage)\n",
    "\n",
    "\n",
    "def r2_dosage_ancestry(true_dosage, pred_dosage, n_anc):\n",
    "    \"\"\"Get ancestry-specific R2 values for LA vs truth.\n",
    "    Returns a list with one R2 per ancestry.\"\"\"\n",
    "    per_anc = []\n",
    "    for i in range(n_anc):\n",
    "        per_anc.append(\n",
    "            pearsonr2_numba(\n",
    "                true_dosage[:, i::n_anc].reshape(-1),\n",
    "                pred_dosage[:, i::n_anc].reshape(-1),\n",
    "            )\n",
    "        )\n",
    "    return(per_anc)\n",
    "\n",
    "\n",
    "@numba.jit(\n",
    "    numba.float64(\n",
    "        numba.float32[:],\n",
    "        numba.float32[:],\n",
    "    ),\n",
    "    nopython=True\n",
    ")\n",
    "def pearsonr2_numba(x, y):\n",
    "    \"\"\"Return the *squared* pearson correlation coef.\n",
    "    x and y are not modified.\n",
    "    Input arrays should be np.float32, output is a single float64 value.\n",
    "    Return and intermediate values maintained as float64 due to precision issues. \n",
    "    \"\"\"\n",
    "    assert len(x) == len(y)\n",
    "    # return Nan if either x or y is constant\n",
    "    if (x == x[0]).all() or (y == y[0]).all():\n",
    "        return(np.nan)\n",
    "\n",
    "    n = len(x)\n",
    "    # mean of x and y\n",
    "    xmean = numba.float64(0.0)\n",
    "    ymean = numba.float64(0.0)\n",
    "    for i in range(n):\n",
    "        xmean += x[i]\n",
    "        ymean += y[i]\n",
    "    xmean = xmean / n\n",
    "    ymean = ymean / n\n",
    "\n",
    "    r_num = numba.float64(0.0)\n",
    "    r_dena = numba.float64(0.0)\n",
    "    r_denb = numba.float64(0.0)\n",
    "    for i in range(n):\n",
    "        xd = x[i] - xmean  # difference from the mean\n",
    "        yd = y[i] - ymean\n",
    "        r_num += xd * yd\n",
    "        r_dena += xd * xd\n",
    "        r_denb += yd * yd\n",
    "    r2 = (r_num * r_num) / (r_dena * r_denb)\n",
    "    return(r2)\n",
    "\n",
    "\n",
    "def convert_flare_vcf(flare_vcf, flare_csv, flare_sites, BCFTOOLS):\n",
    "    \"\"\"Convert the vcf created by flare (with \"probs=true\") into a csv file. \n",
    "    The csv file will be located at the path given by @flare_csv.\n",
    "    It contains 1 column per haploid*ancestry, 1 row per site.\n",
    "    Values are the ANP1 and ANP2 values from flare, which have one sub-value per ancestry.\n",
    "    \n",
    "    All values are comma-delimited.  \n",
    "    First column: chrID\n",
    "    Second coluomn: site pos in bp\n",
    "    Subsequent columns: ANP value for a specific haploid and ancestry\n",
    "    \n",
    "    \n",
    "    Notice the ANP values are in increments of 0.01, so 101 possible values [0, 0.01, ... 0.99, 1]\n",
    "    \n",
    "    Also produces a file at @flare_sites that has one line per site included in the falre output. \n",
    "    This file is used to match the flare output with the true LA \n",
    "    if some sites present in the true output are not included in the flare output, \n",
    "    perhaps due to a minor allele count or minor allele frequency filter applied by flare.\n",
    "    \n",
    "    Uses bcftools to generate the ouput, so @BCFTOOLS should be a path to a working bcftools executable. \"\"\"\n",
    "    \n",
    "    os.system(f\"{BCFTOOLS} query -f '%CHROM, %POS, [%ANP1, %ANP2,]\\\\n' {flare_vcf} > {flare_csv} \")\n",
    "\n",
    "    os.system(f\"{BCFTOOLS} query -f '%POS\\n' {flare_vcf} > {flare_sites} \")\n",
    "        \n",
    "\n",
    "def load_flare(path, sites_file, flare_sites, BCFTOOLS):\n",
    "    \"\"\"Load an array of the posterior local ancestry probabilities from flare.\"\"\"\n",
    "    flare = pd.read_csv(path, header=None)\n",
    "    flare = flare.dropna(axis=1)\n",
    "    res = flare.iloc[:, 2:].values # remove the first two columns holding chrID and site pos. \n",
    "    res = np.concatenate([res[:1], res])\n",
    "\n",
    "    # account for any sites filtered by flare (e.g. due to MAF)\n",
    "    pre_sites = pd.read_csv(sites_file, header=None).values.flatten()\n",
    "    post_sites = pd.read_csv(flare_sites, header=None).values.flatten()\n",
    "    post_indexes = np.searchsorted(post_sites, pre_sites)\n",
    "    del pre_sites, post_sites\n",
    "    res = res[post_indexes]\n",
    "\n",
    "    return(res)\n",
    "\n",
    "\n",
    "def plot_ancestry_dosage(\n",
    "    pred_dosage, # \n",
    "    start_index, # how far to index into the dosage arrays, \n",
    "    n_anc, # number of ancestries\n",
    "    title, # string - will be include at the top of the plot\n",
    "    path=None, # if this specified, the plot with be saved here\n",
    "    format='pdf', # save format, can also be e.g. \"png\" to produce non vector graphics. \n",
    "    reference_dosage=None # if this is specified, this will show up as a dashed line\n",
    "    ):\n",
    "    \"\"\"\n",
    "    Produce a plot tracking the predicted dosage for each ancestry along the genome.\n",
    "    The true ancestry can also be include as dashed line. \n",
    "    \n",
    "    For the plot to make sense @start_index should be =  (ind counter) * (n_anc-1)\n",
    "    So for the first ind (individual 0) the start index should be 0.  \n",
    "    For the second ind (individual 1) the start index should be equal to n_anc-1 \n",
    "    \"\"\"\n",
    "    \n",
    "    # colors to use for the ancestries, only works up to 4\n",
    "    colors = ['blue', 'orange', 'green', 'purple']\n",
    "\n",
    "    # size and layout of the figure\n",
    "    fig, ax = plt.subplots(\n",
    "        figsize=(24, n_anc * 2.5),\n",
    "        nrows=n_anc,\n",
    "        sharex=True,\n",
    "        sharey=True\n",
    "    )\n",
    "    f = []\n",
    "    for i in range(n_anc):\n",
    "        l, = ax[i].plot(pred_dosage[:, start_index + i], c=colors[i], alpha=.9, lw = 4)\n",
    "        f.append(l)\n",
    "        if reference_dosage is not None:\n",
    "            l, = ax[i].plot(\n",
    "                reference_dosage[:, start_index + i], c=colors[i], alpha=.5, ls='--', lw=2\n",
    "            )\n",
    "            ax[i].set_ylabel('dosage') \n",
    "\n",
    "    plt.legend(f, [f'pop{p}' for p in range(n_anc)])\n",
    "\n",
    "    fig.tight_layout()\n",
    "    sns.despine(bottom=True)\n",
    "    ax[0].set_title(title)\n",
    "    ax[-1].set_xlabel('Site number ')\n",
    "    if path:\n",
    "        plt.savefig(path, dpi=300, format=format, bbox_inches='tight')"
   ]
  },
  {
   "cell_type": "markdown",
   "id": "172ce101",
   "metadata": {},
   "source": [
    "# setup"
   ]
  },
  {
   "cell_type": "code",
   "execution_count": 3,
   "id": "56ce3137",
   "metadata": {},
   "outputs": [],
   "source": [
    "n_anc = 2 #should be an integer giving the number of ancestries\n",
    "BCFTOOLS = '/home/kele/Documents/lai/lai-sim/programs/bcftools-1.16/bcftools'"
   ]
  },
  {
   "cell_type": "code",
   "execution_count": 4,
   "id": "d0d1ea25",
   "metadata": {},
   "outputs": [
    {
     "name": "stdout",
     "output_type": "stream",
     "text": [
      "mkdir: cannot create directory ‘work’: File exists\r\n"
     ]
    }
   ],
   "source": [
    "!mkdir 'work'"
   ]
  },
  {
   "cell_type": "code",
   "execution_count": 5,
   "id": "5251d0cd",
   "metadata": {},
   "outputs": [],
   "source": [
    "# paths to input files\n",
    "true_la_path = 'true_local_ancestry.site_matrix.npz' # string with path to the npz file giving true ancestry \n",
    "sites_file = 'site.positions' # path to a file that has one line per site in the true local ancestry data\n",
    "flare_vcf = 'flare/flare.anc.vcf.gz' # path to the *.vcf.gz output from flare."
   ]
  },
  {
   "cell_type": "code",
   "execution_count": 6,
   "id": "75091965",
   "metadata": {},
   "outputs": [],
   "source": [
    "# output and intermediate files\n",
    "# these will be created during executing this \n",
    "R2_path = 'work/R2.txt' # string giving path to the file to put the R2 output\n",
    "flare_sites = 'work/flare.anc.flare_sites'\n",
    "flare_csv = 'work/flare.csv'\n",
    "true_dosage_path = 'work/true.dosage.npz'\n",
    "flare_dosage_path = 'work/flare.dosage.npz'"
   ]
  },
  {
   "cell_type": "code",
   "execution_count": 7,
   "id": "93af3465",
   "metadata": {},
   "outputs": [],
   "source": [
    "# create flare_csv and flare_sites files\n",
    "convert_flare_vcf(\n",
    "    flare_vcf=flare_vcf,\n",
    "    flare_csv=flare_csv,\n",
    "    flare_sites=flare_sites,\n",
    "    BCFTOOLS=BCFTOOLS)"
   ]
  },
  {
   "cell_type": "code",
   "execution_count": 8,
   "id": "ee137e1d",
   "metadata": {},
   "outputs": [
    {
     "data": {
      "text/plain": [
       "((309527, 200), (309527, 400))"
      ]
     },
     "execution_count": 8,
     "metadata": {},
     "output_type": "execute_result"
    }
   ],
   "source": [
    "# load the local ancestry calls from flare and the true local ancestry.\n",
    "flare_la = load_flare(\n",
    "    path=flare_csv,\n",
    "    sites_file=sites_file,\n",
    "    flare_sites=flare_sites,\n",
    "    BCFTOOLS=BCFTOOLS )\n",
    "\n",
    "true_la = load_true_la(true_la_path)\n",
    "\n",
    "# these are different shapes\n",
    "# they are in different formats as the flare results are storing probabilistic LA calls\n",
    "# while the true data only stores the true calls\n",
    "true_la.shape, flare_la.shape"
   ]
  },
  {
   "cell_type": "code",
   "execution_count": 9,
   "id": "08097db4",
   "metadata": {},
   "outputs": [
    {
     "data": {
      "text/plain": [
       "array([[0.  , 1.  , 0.  , ..., 1.  , 0.  , 1.  ],\n",
       "       [0.  , 1.  , 0.  , ..., 1.  , 0.  , 1.  ],\n",
       "       [0.  , 1.  , 0.  , ..., 1.  , 0.  , 1.  ],\n",
       "       ...,\n",
       "       [1.  , 0.  , 0.  , ..., 0.  , 0.05, 0.95],\n",
       "       [1.  , 0.  , 0.  , ..., 0.  , 0.05, 0.95],\n",
       "       [1.  , 0.  , 0.  , ..., 0.  , 0.05, 0.95]])"
      ]
     },
     "execution_count": 9,
     "metadata": {},
     "output_type": "execute_result"
    }
   ],
   "source": [
    "flare_la"
   ]
  },
  {
   "cell_type": "code",
   "execution_count": 10,
   "id": "e7067e8a",
   "metadata": {},
   "outputs": [
    {
     "data": {
      "text/plain": [
       "((309527, 200), (309527, 200))"
      ]
     },
     "execution_count": 10,
     "metadata": {},
     "output_type": "execute_result"
    }
   ],
   "source": [
    "# get the ancestry dosage\n",
    "# also convert to the dtype that is required by the numba-decorated function\n",
    "true_dosage = get_true_anc_dosage(true_la, n_anc).astype(np.float32)\n",
    "flare_dosage = get_ancestry_dosage(flare_la, n_anc).astype(np.float32)\n",
    "true_dosage.shape, flare_dosage.shape"
   ]
  },
  {
   "cell_type": "code",
   "execution_count": 11,
   "id": "a787d8c9",
   "metadata": {},
   "outputs": [
    {
     "data": {
      "text/plain": [
       "(dtype('float32'), dtype('float32'))"
      ]
     },
     "execution_count": 11,
     "metadata": {},
     "output_type": "execute_result"
    }
   ],
   "source": [
    "true_dosage.dtype, flare_dosage.dtype"
   ]
  },
  {
   "cell_type": "code",
   "execution_count": 12,
   "id": "b2cf275e",
   "metadata": {},
   "outputs": [],
   "source": [
    "np.savez_compressed(true_dosage_path, true_dosage)\n",
    "np.savez_compressed(flare_dosage_path, flare_dosage)"
   ]
  },
  {
   "cell_type": "code",
   "execution_count": 13,
   "id": "5827a37d",
   "metadata": {},
   "outputs": [
    {
     "data": {
      "text/plain": [
       "[0.9870607875917546, 0.9870607887857137]"
      ]
     },
     "execution_count": 13,
     "metadata": {},
     "output_type": "execute_result"
    }
   ],
   "source": [
    "r2_dosage_ancestry(\n",
    "    true_dosage=true_dosage, \n",
    "    pred_dosage=flare_dosage,\n",
    "    n_anc=n_anc)"
   ]
  },
  {
   "cell_type": "code",
   "execution_count": 35,
   "id": "fc2a8d57",
   "metadata": {},
   "outputs": [],
   "source": [
    "# alternate test implementation using np.corrcoef\n",
    "# should provide very similar results, with some small difference possible (<1e-4)"
   ]
  },
  {
   "cell_type": "code",
   "execution_count": 37,
   "id": "f1370e90",
   "metadata": {},
   "outputs": [],
   "source": [
    "def r2_dosage_ancestry_CORR(true_dosage, pred_dosage, n_anc):\n",
    "    \"\"\"Get ancestry-specific R2 values for LA vs truth.\n",
    "    Returns a list with one R2 per ancestry.\"\"\"\n",
    "    per_anc = []\n",
    "    for i in range(n_anc):\n",
    "        per_anc.append(\n",
    "            np.corrcoef(\n",
    "                true_dosage[:, i::n_anc].reshape(-1),\n",
    "                pred_dosage[:, i::n_anc].reshape(-1),\n",
    "            )[0,1]**2\n",
    "        )\n",
    "    return(per_anc)"
   ]
  },
  {
   "cell_type": "code",
   "execution_count": 44,
   "id": "e7316131",
   "metadata": {},
   "outputs": [
    {
     "data": {
      "text/plain": [
       "[0.9870607877195956, 0.9870607873277016]"
      ]
     },
     "execution_count": 44,
     "metadata": {},
     "output_type": "execute_result"
    }
   ],
   "source": [
    "r2_dosage_ancestry_CORR(\n",
    "    true_dosage=true_dosage, \n",
    "    pred_dosage=flare_dosage,\n",
    "    n_anc=n_anc)"
   ]
  },
  {
   "cell_type": "markdown",
   "id": "10bacdf6",
   "metadata": {},
   "source": [
    "# The speedup doesn't matter here so much but is more meaningful in the larger analyses. "
   ]
  },
  {
   "cell_type": "code",
   "execution_count": 42,
   "id": "e7a72b61",
   "metadata": {},
   "outputs": [
    {
     "name": "stdout",
     "output_type": "stream",
     "text": [
      "260 ms ± 8.1 ms per loop (mean ± std. dev. of 7 runs, 1 loop each)\n"
     ]
    }
   ],
   "source": [
    "%%timeit\n",
    "r2_dosage_ancestry(\n",
    "    true_dosage=true_dosage, \n",
    "    pred_dosage=flare_dosage,\n",
    "    n_anc=n_anc)"
   ]
  },
  {
   "cell_type": "code",
   "execution_count": 43,
   "id": "6fc2741a",
   "metadata": {},
   "outputs": [
    {
     "name": "stdout",
     "output_type": "stream",
     "text": [
      "652 ms ± 19.6 ms per loop (mean ± std. dev. of 7 runs, 1 loop each)\n"
     ]
    }
   ],
   "source": [
    "%%timeit\n",
    "r2_dosage_ancestry_CORR(\n",
    "    true_dosage=true_dosage, \n",
    "    pred_dosage=flare_dosage,\n",
    "    n_anc=n_anc)"
   ]
  },
  {
   "cell_type": "markdown",
   "id": "4e4a53eb",
   "metadata": {},
   "source": [
    "## Plot of local ancestry dosage. \n",
    "Each solid line is the inferred local ancestry dosage at each site in the genome.\n",
    "The dashed lines give the true local ancestry dosage at each site.\n",
    "Each ancestry is plotted a separate y-axis shown on the left.\n",
    "The very small vertical changes in true local ancestry are likely due to gene conversion. "
   ]
  },
  {
   "cell_type": "code",
   "execution_count": 48,
   "id": "69e22e0f",
   "metadata": {},
   "outputs": [
    {
     "data": {
      "image/png": "[encoded data removed]",
      "text/plain": [
       "<Figure size 1728x360 with 2 Axes>"
      ]
     },
     "metadata": {
      "needs_background": "light"
     },
     "output_type": "display_data"
    }
   ],
   "source": [
    "plot_ancestry_dosage(\n",
    "\tpred_dosage=flare_dosage,\n",
    "\tstart_index=0,\n",
    "\tn_anc=2,\n",
    "    title='ancestry dosage',\n",
    "\treference_dosage=true_dosage,\n",
    "    path=None, # if this specified, the plot with be saved here\n",
    "    format='pdf',\n",
    ")"
   ]
  },
  {
   "cell_type": "code",
   "execution_count": null,
   "id": "2c2b16d2",
   "metadata": {},
   "outputs": [],
   "source": []
  }
 ],
 "metadata": {
  "kernelspec": {
   "display_name": "Python 3 (ipykernel)",
   "language": "python",
   "name": "python3"
  },
  "language_info": {
   "codemirror_mode": {
    "name": "ipython",
    "version": 3
   },
   "file_extension": ".py",
   "mimetype": "text/x-python",
   "name": "python",
   "nbconvert_exporter": "python",
   "pygments_lexer": "ipython3",
   "version": "3.10.5"
  }
 },
 "nbformat": 4,
 "nbformat_minor": 5
}
